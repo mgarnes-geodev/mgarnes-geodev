{
  "nbformat": 4,
  "nbformat_minor": 0,
  "metadata": {
    "colab": {
      "provenance": [],
      "authorship_tag": "ABX9TyMV7prBPQ6KswP0qL4KYAnB",
      "include_colab_link": true
    },
    "kernelspec": {
      "name": "python3",
      "display_name": "Python 3"
    },
    "language_info": {
      "name": "python"
    }
  },
  "cells": [
    {
      "cell_type": "markdown",
      "metadata": {
        "id": "view-in-github",
        "colab_type": "text"
      },
      "source": [
        "<a href=\"https://colab.research.google.com/github/mgarnes-geodev/mgarnes-geodev/blob/main/Locality_Reference.ipynb\" target=\"_parent\"><img src=\"https://colab.research.google.com/assets/colab-badge.svg\" alt=\"Open In Colab\"/></a>"
      ]
    },
    {
      "cell_type": "code",
      "execution_count": 1,
      "metadata": {
        "id": "I01HFLXfw_IU"
      },
      "outputs": [],
      "source": [
        "import numpy as np\n",
        "import matplotlib.pyplot as plt\n",
        "import time"
      ]
    },
    {
      "cell_type": "code",
      "source": [
        "# Creates a large array to simulate memory\n",
        "ARRAY_SIZE = 10_000_000\n",
        "memory = np.random.randint(0, 100, size=ARRAY_SIZE)\n",
        "\n",
        "# Good Locality: Access elements sequentially (spatial locality)\n",
        "def good_locality(memory):\n",
        "    total = 0\n",
        "    for i in range(0, len(memory), 1):  # sequential access\n",
        "        total += memory[i]\n",
        "    return total\n",
        "\n",
        "# Poor Locality: Access elements randomly (no spatial or temporal locality)\n",
        "def poor_locality(memory):\n",
        "    total = 0\n",
        "    indices = np.random.permutation(len(memory))  # random shuffle of indices\n",
        "    for i in indices:\n",
        "        total += memory[i]\n",
        "    return total\n",
        "\n",
        "# Measure time taken for both patterns\n",
        "def measure_time(func, memory):\n",
        "    start = time.time()\n",
        "    func(memory)\n",
        "    end = time.time()\n",
        "    return end - start"
      ],
      "metadata": {
        "id": "mzYoH4HAxD_4"
      },
      "execution_count": 2,
      "outputs": []
    },
    {
      "cell_type": "code",
      "source": [
        "# Run experiments multiple times for more accurate measurement\n",
        "epochs = 15\n",
        "good_times = [measure_time(good_locality, memory) for _ in range(epochs)]\n",
        "poor_times = [measure_time(poor_locality, memory) for _ in range(epochs)]\n",
        "\n",
        "# Plotting the results\n",
        "plt.figure(figsize=(8, 6))\n",
        "plt.plot(range(1, epochs + 1), good_times, marker='o', label='Good Locality (Sequential Access)')\n",
        "plt.plot(range(1, epochs + 1), poor_times, marker='o', label='Poor Locality (Random Access)')\n",
        "plt.xlabel('Epoch Number')\n",
        "plt.ylabel('Time Taken (seconds)')\n",
        "plt.title('Good vs. Poor Locality of Reference Performance')\n",
        "plt.legend()\n",
        "plt.grid(True)\n",
        "plt.tight_layout()\n",
        "plt.show()"
      ],
      "metadata": {
        "id": "vPt352FjyMNv"
      },
      "execution_count": null,
      "outputs": []
    },
    {
      "cell_type": "code",
      "source": [
        "plt.savefig('good_vs_poor_locality.png')"
      ],
      "metadata": {
        "colab": {
          "base_uri": "https://localhost:8080/",
          "height": 34
        },
        "id": "0CKkzt8d3EgB",
        "outputId": "20faf5c3-6caa-4faa-a2e4-18e79ced1068",
        "collapsed": true
      },
      "execution_count": 6,
      "outputs": [
        {
          "output_type": "display_data",
          "data": {
            "text/plain": [
              "<Figure size 640x480 with 0 Axes>"
            ]
          },
          "metadata": {}
        }
      ]
    }
  ]
}